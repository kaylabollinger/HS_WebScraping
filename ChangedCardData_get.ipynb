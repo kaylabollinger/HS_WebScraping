{
 "cells": [
  {
   "cell_type": "code",
   "execution_count": 1,
   "id": "42fbb468",
   "metadata": {},
   "outputs": [],
   "source": [
    "import pandas as pd\n",
    "\n",
    "from bs4 import BeautifulSoup as bs\n",
    "from bs4 import SoupStrainer\n",
    "import requests\n",
    "from selenium import webdriver\n",
    "from selenium.webdriver.common.by import By\n",
    "from selenium.webdriver.support.ui import WebDriverWait\n",
    "from selenium.webdriver.support import expected_conditions as EC\n",
    "from selenium.webdriver.common.keys import Keys\n",
    "import time\n",
    "\n",
    "import nltk\n",
    "\n",
    "from datetime import datetime\n",
    "\n",
    "# #new: use this to get updated chromeDriver to match newest chrome update\n",
    "# #new: super useful youtube video: https://www.youtube.com/watch?v=mAwL_0N1W9E&ab_channel=JonathanSoma\n",
    "from webdriver_manager.chrome import ChromeDriverManager"
   ]
  },
  {
   "cell_type": "markdown",
   "id": "695090dd",
   "metadata": {},
   "source": [
    "Record date of when website was accessed."
   ]
  },
  {
   "cell_type": "code",
   "execution_count": 2,
   "id": "7fd9ab62",
   "metadata": {},
   "outputs": [
    {
     "name": "stdout",
     "output_type": "stream",
     "text": [
      "2023.06.29\n"
     ]
    }
   ],
   "source": [
    "date = datetime.today().strftime('%Y.%m.%d')\n",
    "print(date)"
   ]
  },
  {
   "cell_type": "markdown",
   "id": "d05342b8",
   "metadata": {},
   "source": [
    "Retrieve dynamic page via Selenium."
   ]
  },
  {
   "cell_type": "code",
   "execution_count": 3,
   "id": "9399ef36",
   "metadata": {},
   "outputs": [
    {
     "name": "stderr",
     "output_type": "stream",
     "text": [
      "C:\\Users\\kayla\\AppData\\Local\\Temp\\ipykernel_13120\\2267723443.py:8: DeprecationWarning: executable_path has been deprecated, please pass in a Service object\n",
      "  driver = webdriver.Chrome(ChromeDriverManager().install())\n"
     ]
    }
   ],
   "source": [
    "# set up driver via chromedriver\n",
    "\n",
    "# #old: chromedriver was out dated, see new approach below\n",
    "# PATH = 'C:\\Program Files (x86)\\chromedriver.exe'\n",
    "# driver = webdriver.Chrome(PATH)\n",
    "\n",
    "# #new: get latest chromedriver\n",
    "driver = webdriver.Chrome(ChromeDriverManager().install())\n",
    "\n",
    "# get patchnotes page\n",
    "driver.get('https://hearthstone.blizzard.com/en-gb/news/patchnotes/')\n",
    "\n",
    "# find \"Load more\" button\n",
    "button_loadmore = driver.find_element(By.XPATH, '//*[@id=\"NewsHome\"]/div/div[2]/div[3]/button')\n",
    "\n",
    "# click/return button until it no longer exists (load all patchnotes links)\n",
    "max_click = 1000\n",
    "ct_click = 0\n",
    "flag = 0\n",
    "while flag == 0 and ct_click <= max_click:\n",
    "    ct_click += 1\n",
    "    try:\n",
    "        element = WebDriverWait(driver, 10).until(\n",
    "            EC.presence_of_element_located((By.XPATH, '//*[@id=\"NewsHome\"]/div/div[2]/div[3]/button'))\n",
    "        )\n",
    "        time.sleep(2)\n",
    "    finally:\n",
    "        try:\n",
    "            button_loadmore.send_keys(Keys.RETURN)\n",
    "        except:\n",
    "            flag = 1\n",
    "\n",
    "# find element containing patchnotes\n",
    "notes = driver.find_element(By.ID, 'NewsHome')\n",
    "\n",
    "# extract html from element\n",
    "notes_html = notes.get_attribute('innerHTML')\n",
    "\n",
    "# close driver\n",
    "driver.close()"
   ]
  },
  {
   "cell_type": "markdown",
   "id": "c8091a7e",
   "metadata": {},
   "source": [
    "Parse HTML content via BeautifulSoup"
   ]
  },
  {
   "cell_type": "code",
   "execution_count": 4,
   "id": "3382d10c",
   "metadata": {},
   "outputs": [],
   "source": [
    "soup = bs(notes_html, 'html.parser')\n",
    "\n",
    "# view contents -- uncomment below to view\n",
    "# print(soup.prettify())"
   ]
  },
  {
   "cell_type": "code",
   "execution_count": 5,
   "id": "bd2e2ebc",
   "metadata": {
    "scrolled": true
   },
   "outputs": [],
   "source": [
    "# extract urls\n",
    "url_list = []\n",
    "for element in soup.find_all('a'):\n",
    "    url_list.append('https://hearthstone.blizzard.com'+element['href'])"
   ]
  },
  {
   "cell_type": "markdown",
   "id": "f8d0b075",
   "metadata": {},
   "source": [
    "For each patchnotes page, extract card update content."
   ]
  },
  {
   "cell_type": "code",
   "execution_count": 6,
   "id": "8222ddfb",
   "metadata": {},
   "outputs": [],
   "source": [
    "tokenizer = nltk.tokenize.RegexpTokenizer(r'\\w+')"
   ]
  },
  {
   "cell_type": "code",
   "execution_count": 7,
   "id": "8e1b437a",
   "metadata": {},
   "outputs": [],
   "source": [
    "card_update_id = {'card','standard','wild','balance'}\n",
    "NON_update_id = {'battlegrounds','mercenaries','duels','arena','tavern','brawl'}\n",
    "change_specifier_ids = {'following','cards'}\n",
    "buff_id = {'up','increased','raised','buff','buffs','buffed'}\n",
    "nerf_id = {'down','lowered','reduced','dropped','drop','decreased','nerf','nerfs','nerfed'}"
   ]
  },
  {
   "cell_type": "code",
   "execution_count": 8,
   "id": "253c0328",
   "metadata": {},
   "outputs": [],
   "source": [
    "df_changes = pd.DataFrame(columns=['patch_num','date_pub','card_name','change_text','change_type'])"
   ]
  },
  {
   "cell_type": "markdown",
   "id": "089da1d8",
   "metadata": {},
   "source": [
    "Get page source from website."
   ]
  },
  {
   "cell_type": "code",
   "execution_count": 9,
   "id": "43b48c79",
   "metadata": {},
   "outputs": [],
   "source": [
    "def get_content(link):\n",
    "    # load webpage\n",
    "    r = requests.get(link)\n",
    "    # convert to beautiful soup object\n",
    "    soup = bs(r.content)\n",
    "    return soup"
   ]
  },
  {
   "cell_type": "markdown",
   "id": "6959c107",
   "metadata": {},
   "source": [
    "Get metadata from patch notes."
   ]
  },
  {
   "cell_type": "code",
   "execution_count": 10,
   "id": "91abbc9a",
   "metadata": {},
   "outputs": [],
   "source": [
    "def get_metadata(soup):\n",
    "    # extract metadata\n",
    "    date_pub = soup.body.find(class_='publish-date').text.strip()\n",
    "    patch_num = soup.body.find('h2').text.strip()[:-12] # remove \" Patch Notes\" from string\n",
    "    return patch_num, date_pub"
   ]
  },
  {
   "cell_type": "markdown",
   "id": "1564aa8e",
   "metadata": {},
   "source": [
    "Extract specific part of page source containing updates."
   ]
  },
  {
   "cell_type": "code",
   "execution_count": 11,
   "id": "b377a8f8",
   "metadata": {},
   "outputs": [],
   "source": [
    "def extract_update_content(soup):\n",
    "    # extract element containing patch note information\n",
    "    blog = soup.body.find(class_ = 'detail blog-detail')\n",
    "    # extract tags with card information\n",
    "    updates = blog.find_all(['h4','h5','p','ul'],recursive=False)\n",
    "    return updates"
   ]
  },
  {
   "cell_type": "markdown",
   "id": "c224df7f",
   "metadata": {},
   "source": [
    "Check if patch notes contain any card updates and if so, remove any information stated before the card updates."
   ]
  },
  {
   "cell_type": "code",
   "execution_count": 12,
   "id": "88fcb15a",
   "metadata": {},
   "outputs": [],
   "source": [
    "def check_card_update(updates):\n",
    "    # CHECK for card updates in patch and REMOVE anything listed before the card updates\n",
    "    card_update_exists = False # = True if card update exists\n",
    "    idx = 0\n",
    "    max_idx = len(updates)\n",
    "    while not card_update_exists and idx < max_idx:\n",
    "        element = updates[idx]\n",
    "        if element.name in {'h4','h5'}:\n",
    "            text_set = set(tokenizer.tokenize(element.text.strip().lower()))\n",
    "            id_bool = text_set.intersection(card_update_id) and not text_set.intersection(NON_update_id)\n",
    "            if id_bool and 'updates' in text_set:\n",
    "                del updates[:idx]\n",
    "                card_update_exists = True\n",
    "        idx += 1\n",
    "    return card_update_exists"
   ]
  },
  {
   "cell_type": "markdown",
   "id": "3eea1ede",
   "metadata": {},
   "source": [
    "Remove any information stated after the card updates."
   ]
  },
  {
   "cell_type": "code",
   "execution_count": 13,
   "id": "caf665bb",
   "metadata": {},
   "outputs": [],
   "source": [
    "def remove_other_updates(updates):\n",
    "    # remove any content after \"Card/Standard Balance Updates\" section\n",
    "    for idx, element in enumerate(updates):\n",
    "        if element.name in {'h4','h5'}:\n",
    "            text_set = set(tokenizer.tokenize(element.text.strip().lower()))\n",
    "            id_bool = not text_set.intersection(card_update_id) or text_set.intersection(NON_update_id)\n",
    "            if id_bool:\n",
    "                del updates[idx:]"
   ]
  },
  {
   "cell_type": "markdown",
   "id": "15a498a1",
   "metadata": {},
   "source": [
    "Filter out any other information (by tags or content) that are not to be recorded."
   ]
  },
  {
   "cell_type": "code",
   "execution_count": 14,
   "id": "fec74ab7",
   "metadata": {},
   "outputs": [],
   "source": [
    "def filter_update_content(updates):\n",
    "    # extract only needed info\n",
    "    # loop in reverse to avoid reindexing elements before deleting them\n",
    "    for idx, element in reversed(list(enumerate(updates))):\n",
    "        if element.name == 'p':\n",
    "            text_set = set(tokenizer.tokenize(element.text.strip().lower()))\n",
    "            style_check = element.find_all(['span','img','em'])\n",
    "            # check for incorrect styling then check for text content\n",
    "            if element.text == '' or style_check:\n",
    "                del updates[idx]\n",
    "            elif not change_specifier_ids.issubset(text_set):\n",
    "                del updates[idx]\n",
    "        elif element.name == 'ul':\n",
    "            style_check = element.find_all(['span','img','em'])\n",
    "            # check for incorrect styling\n",
    "            if style_check:\n",
    "                del updates[idx]"
   ]
  },
  {
   "cell_type": "markdown",
   "id": "5fc53b56",
   "metadata": {},
   "source": [
    "Check if the updates are labeled as buffs or nerfs."
   ]
  },
  {
   "cell_type": "code",
   "execution_count": 15,
   "id": "1e3b1e24",
   "metadata": {},
   "outputs": [],
   "source": [
    "def check_change_indicator(updates):\n",
    "    # find buff/nerf subsections, if exists\n",
    "    buff_idx = None\n",
    "    nerf_idx = None\n",
    "    spec_unknown = 0 # check if buff/nerf specified, but not in buff_id/nerf_id\n",
    "    for idx, element in enumerate(updates):\n",
    "        if element.name == 'p':\n",
    "            text_set = set(tokenizer.tokenize(element.text.strip().lower()))\n",
    "            if change_specifier_ids.issubset(text_set):\n",
    "                if text_set.intersection(buff_id):\n",
    "                    buff_idx = idx\n",
    "                elif text_set.intersection(nerf_id):\n",
    "                    nerf_idx = idx\n",
    "                else:\n",
    "                    spec_unknown = 1\n",
    "    return buff_idx, nerf_idx, spec_unknown"
   ]
  },
  {
   "cell_type": "markdown",
   "id": "b6be9d5e",
   "metadata": {},
   "source": [
    "Separate buff changes and nerf changes."
   ]
  },
  {
   "cell_type": "code",
   "execution_count": 16,
   "id": "f3b6e95e",
   "metadata": {},
   "outputs": [],
   "source": [
    "def extract_buffnerf_sections(updates,buff_idx,nerf_idx):\n",
    "    # extract buff/nerf subsections\n",
    "    if buff_idx and nerf_idx:\n",
    "        if buff_idx < nerf_idx:\n",
    "            buff_changes = updates[buff_idx+1:nerf_idx]\n",
    "            nerf_changes = updates[nerf_idx+1:]\n",
    "        else:\n",
    "            nerf_changes = updates[nerf_idx+1:buff_idx]\n",
    "            buff_changes = updates[buff_idx+1:]\n",
    "    elif buff_idx:\n",
    "        buff_changes = updates[buff_idx+1:]\n",
    "        nerf_changes = []\n",
    "    else:\n",
    "        nerf_changes = updates[nerf_idx+1:]\n",
    "        buff_changes = []\n",
    "    return buff_changes, nerf_changes"
   ]
  },
  {
   "cell_type": "markdown",
   "id": "23d03889",
   "metadata": {},
   "source": [
    "Record card changes in dictionary."
   ]
  },
  {
   "cell_type": "code",
   "execution_count": 17,
   "id": "d064741e",
   "metadata": {},
   "outputs": [],
   "source": [
    "def record_changes(changes,spec,df_changes,patch_num,date_pub):\n",
    "    # changes = list of card changes\n",
    "    # spec = str indicating type of change\n",
    "    for change in changes:\n",
    "        # find card name\n",
    "        sib = change.previous_sibling\n",
    "        card_name = sib.text.strip()\n",
    "        ct = 0\n",
    "        max_ct = 100\n",
    "        while card_name == '' and ct < max_ct:\n",
    "            sib = sib.previous_sibling\n",
    "            card_name = sib.text.strip()\n",
    "            ct += 1\n",
    "        # record info\n",
    "        dict_temp = {'patch_num':[patch_num],'date_pub':[date_pub], 'card_name':[card_name],\n",
    "                     'change_text':[change.text.strip()], 'change_type':[spec]}\n",
    "        df_changes = pd.concat([df_changes,pd.DataFrame(dict_temp)])\n",
    "    return df_changes"
   ]
  },
  {
   "cell_type": "markdown",
   "id": "8510dd04",
   "metadata": {},
   "source": [
    "Put it all together!"
   ]
  },
  {
   "cell_type": "code",
   "execution_count": 18,
   "id": "ae59095a",
   "metadata": {},
   "outputs": [
    {
     "name": "stdout",
     "output_type": "stream",
     "text": [
      "Patch Notes 26.6\n",
      "Patch Notes 26.4.3\n",
      "Patch Notes 26.4\n",
      "Patch Notes 26.2.2\n",
      "Patch Notes 26.2\n",
      "Patch Notes 26.0.4\n",
      "Patch Notes 26.0.2\n",
      "Patch Notes 26.0\n",
      "Patch Notes 25.6.2\n",
      "Patch Notes 25.6\n",
      "Patch Notes 25.4.3\n",
      "Patch Notes 25.4\n",
      "Patch Notes 25.2.2\n",
      "Patch Notes 25.2\n",
      "Patch Notes 25.0.4\n",
      "Patch Notes 25.0.3\n",
      "Patch Notes 25.0\n",
      "Patch Notes 24.6.2\n",
      "Patch Notes 24.6\n",
      "Patch Notes 24.4.3\n",
      "Patch Notes 24.4\n",
      "Patch Notes 24.2.2\n",
      "Patch Notes 24.2\n",
      "Patch Notes 24.0.3\n",
      "Patch Notes 24.0\n",
      "Patch Notes 23.6\n",
      "Patch Notes 23.4.3\n",
      "Patch Notes 23.4\n",
      "Patch Notes 23.2.2\n",
      "Patch Notes 23.2\n",
      "Patch Notes 23.0\n",
      "Patch Notes 22.6\n",
      "Patch Notes 22.4\n",
      "Patch Notes 22.2.2\n",
      "Patch Notes 22.2.1\n",
      "Patch Notes 22.2\n",
      "Patch Notes 22.0.2\n",
      "Patch Notes 22.0\n",
      "Patch Notes 21.8\n",
      "Patch Notes 21.6\n",
      "Patch Notes 21.4.4\n",
      "Patch Notes 21.4\n",
      "Patch Notes 21.3\n",
      "Patch Notes 21.2\n",
      "Patch Notes 21.0.3\n",
      "Patch Notes 21.0\n",
      "Patch Notes 20.8.2\n",
      "Patch Notes 20.8\n",
      "Patch Notes 20.4.2\n",
      "Patch Notes 20.4\n",
      "Patch Notes 20.2.2\n",
      "Patch Notes 20.2\n",
      "Patch Notes 20.0.2\n",
      "Patch Notes 20.0\n",
      "Patch Notes 19.6\n",
      "Patch Notes 19.4.1\n",
      "Patch Notes 19.4\n",
      "Patch Notes 19.2.1\n",
      "Patch Notes 19.2\n",
      "Patch Notes 19.0\n",
      "Patch Notes 18.6.1\n",
      "Patch Notes 18.6\n",
      "Patch Notes 18.4.2\n",
      "Patch Notes 18.4\n",
      "Patch Notes 18.2\n",
      "Patch Notes 18.0.2\n",
      "Patch Notes 18.0\n",
      "Patch Notes 17.6\n",
      "Patch Notes 17.4.1\n",
      "Patch Notes 17.4\n",
      "Patch Notes 17.2.1\n",
      "Patch Notes Hearthstone Updates – May 12 \n"
     ]
    }
   ],
   "source": [
    "for link in url_list:\n",
    "    '''Get patch notes page.'''\n",
    "    soup = get_content(link)\n",
    "    \n",
    "    '''Get metadata.'''\n",
    "    patch_num, date_pub = get_metadata(soup)\n",
    "    print('Patch Notes '+ patch_num)\n",
    "    \n",
    "    '''Get card update information.'''\n",
    "    updates = extract_update_content(soup)\n",
    "        \n",
    "    # remove any content before \"Card/Balance Updates\" header\n",
    "    card_update_exists = check_card_update(updates)\n",
    "\n",
    "    # IF patch notes contain card updates, extract the changes\n",
    "    if card_update_exists:\n",
    "        # remove any content after \"Card/Standard Balance Updates\" section\n",
    "        remove_other_updates(updates)\n",
    "\n",
    "        # extract only needed info\n",
    "        filter_update_content(updates)\n",
    "\n",
    "        '''Filter buffs and nerfs.'''\n",
    "        # find buff/nerf subsections\n",
    "        buff_idx, nerf_idx, spec_unknown = check_change_indicator(updates)\n",
    "\n",
    "        # extract buffs/nerfs\n",
    "        # use if statement to check if buff/nerf is even specified--if not, label \"unknown\"\n",
    "        if buff_idx or nerf_idx:\n",
    "            # extract buff/nerf subsections\n",
    "            buff_changes, nerf_changes = extract_buffnerf_sections(updates,buff_idx,nerf_idx)\n",
    "\n",
    "            # record buffs\n",
    "            df_changes = record_changes(buff_changes,'buff',df_changes,patch_num,date_pub)\n",
    "            \n",
    "            # record nerfs\n",
    "            df_changes = record_changes(nerf_changes,'nerf',df_changes,patch_num,date_pub)\n",
    "\n",
    "        else:\n",
    "            changes = updates[1+spec_unknown:]\n",
    "            df_changes = record_changes(changes,None,df_changes,patch_num,date_pub)"
   ]
  },
  {
   "cell_type": "code",
   "execution_count": 19,
   "id": "aba8a501",
   "metadata": {},
   "outputs": [
    {
     "data": {
      "text/html": [
       "<div>\n",
       "<style scoped>\n",
       "    .dataframe tbody tr th:only-of-type {\n",
       "        vertical-align: middle;\n",
       "    }\n",
       "\n",
       "    .dataframe tbody tr th {\n",
       "        vertical-align: top;\n",
       "    }\n",
       "\n",
       "    .dataframe thead th {\n",
       "        text-align: right;\n",
       "    }\n",
       "</style>\n",
       "<table border=\"1\" class=\"dataframe\">\n",
       "  <thead>\n",
       "    <tr style=\"text-align: right;\">\n",
       "      <th></th>\n",
       "      <th>patch_num</th>\n",
       "      <th>date_pub</th>\n",
       "      <th>card_name</th>\n",
       "      <th>change_text</th>\n",
       "      <th>change_type</th>\n",
       "    </tr>\n",
       "  </thead>\n",
       "  <tbody>\n",
       "    <tr>\n",
       "      <th>0</th>\n",
       "      <td>26.4.3</td>\n",
       "      <td>06/15/2023</td>\n",
       "      <td>Card and Treasure Pool Updates</td>\n",
       "      <td>Kingsbane has been banned from deckbuilding an...</td>\n",
       "      <td>None</td>\n",
       "    </tr>\n",
       "    <tr>\n",
       "      <th>0</th>\n",
       "      <td>26.0.4</td>\n",
       "      <td>04/27/2023</td>\n",
       "      <td>Rowdy Fan and Twig of the World Tree will be e...</td>\n",
       "      <td>The following cards have been adjusted to be m...</td>\n",
       "      <td>None</td>\n",
       "    </tr>\n",
       "    <tr>\n",
       "      <th>0</th>\n",
       "      <td>26.0.4</td>\n",
       "      <td>04/27/2023</td>\n",
       "      <td>Rock Master Voone</td>\n",
       "      <td>Old: [4 Mana]\\nNew: [3 Mana]</td>\n",
       "      <td>None</td>\n",
       "    </tr>\n",
       "    <tr>\n",
       "      <th>0</th>\n",
       "      <td>26.0.4</td>\n",
       "      <td>04/27/2023</td>\n",
       "      <td>Verse Riff</td>\n",
       "      <td>Old: [2 Mana]\\nNew: [1 Mana]</td>\n",
       "      <td>None</td>\n",
       "    </tr>\n",
       "    <tr>\n",
       "      <th>0</th>\n",
       "      <td>26.0.4</td>\n",
       "      <td>04/27/2023</td>\n",
       "      <td>Bridge Riff</td>\n",
       "      <td>Old: [6 Mana]\\nNew: [5 Mana]</td>\n",
       "      <td>None</td>\n",
       "    </tr>\n",
       "    <tr>\n",
       "      <th>...</th>\n",
       "      <td>...</td>\n",
       "      <td>...</td>\n",
       "      <td>...</td>\n",
       "      <td>...</td>\n",
       "      <td>...</td>\n",
       "    </tr>\n",
       "    <tr>\n",
       "      <th>0</th>\n",
       "      <td>17.6</td>\n",
       "      <td>07/14/2020</td>\n",
       "      <td>Dragoncaster</td>\n",
       "      <td>Old: [Cost 6] → New: [Cost 7].</td>\n",
       "      <td>None</td>\n",
       "    </tr>\n",
       "    <tr>\n",
       "      <th>0</th>\n",
       "      <td>17.6</td>\n",
       "      <td>07/14/2020</td>\n",
       "      <td>Fungal Fortunes</td>\n",
       "      <td>Old: [Cost 2] → New: [Cost 3].</td>\n",
       "      <td>None</td>\n",
       "    </tr>\n",
       "    <tr>\n",
       "      <th>0</th>\n",
       "      <td>17.6</td>\n",
       "      <td>07/14/2020</td>\n",
       "      <td>Galakrond, the Nightmare</td>\n",
       "      <td>Old: Battlecry: Draw 1 card. It costs (0). → N...</td>\n",
       "      <td>None</td>\n",
       "    </tr>\n",
       "    <tr>\n",
       "      <th>0</th>\n",
       "      <td>17.6</td>\n",
       "      <td>07/14/2020</td>\n",
       "      <td>Galakrond, the Apocalypse (Rogue)</td>\n",
       "      <td>Old: Battlecry: Draw 2 cards. It costs (0). → ...</td>\n",
       "      <td>None</td>\n",
       "    </tr>\n",
       "    <tr>\n",
       "      <th>0</th>\n",
       "      <td>17.6</td>\n",
       "      <td>07/14/2020</td>\n",
       "      <td>Galakrond, Azeroth’s End (Rogue)</td>\n",
       "      <td>Old: Battlecry: Draw 4 cards. It costs (0). → ...</td>\n",
       "      <td>None</td>\n",
       "    </tr>\n",
       "  </tbody>\n",
       "</table>\n",
       "<p>205 rows × 5 columns</p>\n",
       "</div>"
      ],
      "text/plain": [
       "   patch_num    date_pub                                          card_name  \\\n",
       "0     26.4.3  06/15/2023                     Card and Treasure Pool Updates   \n",
       "0     26.0.4  04/27/2023  Rowdy Fan and Twig of the World Tree will be e...   \n",
       "0     26.0.4  04/27/2023                                  Rock Master Voone   \n",
       "0     26.0.4  04/27/2023                                         Verse Riff   \n",
       "0     26.0.4  04/27/2023                                        Bridge Riff   \n",
       "..       ...         ...                                                ...   \n",
       "0       17.6  07/14/2020                                       Dragoncaster   \n",
       "0       17.6  07/14/2020                                    Fungal Fortunes   \n",
       "0       17.6  07/14/2020                           Galakrond, the Nightmare   \n",
       "0       17.6  07/14/2020                  Galakrond, the Apocalypse (Rogue)   \n",
       "0       17.6  07/14/2020                   Galakrond, Azeroth’s End (Rogue)   \n",
       "\n",
       "                                          change_text change_type  \n",
       "0   Kingsbane has been banned from deckbuilding an...        None  \n",
       "0   The following cards have been adjusted to be m...        None  \n",
       "0                        Old: [4 Mana]\\nNew: [3 Mana]        None  \n",
       "0                        Old: [2 Mana]\\nNew: [1 Mana]        None  \n",
       "0                        Old: [6 Mana]\\nNew: [5 Mana]        None  \n",
       "..                                                ...         ...  \n",
       "0                      Old: [Cost 6] → New: [Cost 7].        None  \n",
       "0                      Old: [Cost 2] → New: [Cost 3].        None  \n",
       "0   Old: Battlecry: Draw 1 card. It costs (0). → N...        None  \n",
       "0   Old: Battlecry: Draw 2 cards. It costs (0). → ...        None  \n",
       "0   Old: Battlecry: Draw 4 cards. It costs (0). → ...        None  \n",
       "\n",
       "[205 rows x 5 columns]"
      ]
     },
     "execution_count": 19,
     "metadata": {},
     "output_type": "execute_result"
    }
   ],
   "source": [
    "df_changes"
   ]
  },
  {
   "cell_type": "code",
   "execution_count": 20,
   "id": "896bd439",
   "metadata": {
    "scrolled": false
   },
   "outputs": [],
   "source": [
    "# with pd.option_context('display.max_rows', None, 'display.max_columns', None):  # more options can be specified also\n",
    "#     print(df_changes)"
   ]
  },
  {
   "cell_type": "code",
   "execution_count": 21,
   "id": "b550392b",
   "metadata": {},
   "outputs": [],
   "source": [
    "# df_changes.to_csv(f'card_data_changes_{date}.tsv',sep='\\t', index=False) # tab sep since card text includes commas"
   ]
  }
 ],
 "metadata": {
  "kernelspec": {
   "display_name": "Python 3 (ipykernel)",
   "language": "python",
   "name": "python3"
  },
  "language_info": {
   "codemirror_mode": {
    "name": "ipython",
    "version": 3
   },
   "file_extension": ".py",
   "mimetype": "text/x-python",
   "name": "python",
   "nbconvert_exporter": "python",
   "pygments_lexer": "ipython3",
   "version": "3.9.12"
  }
 },
 "nbformat": 4,
 "nbformat_minor": 5
}
